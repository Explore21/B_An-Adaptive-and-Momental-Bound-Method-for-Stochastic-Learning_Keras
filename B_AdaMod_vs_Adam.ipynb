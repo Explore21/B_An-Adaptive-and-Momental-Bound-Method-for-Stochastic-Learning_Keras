{
 "cells": [
  {
   "cell_type": "code",
   "execution_count": 1,
   "metadata": {},
   "outputs": [
    {
     "name": "stderr",
     "output_type": "stream",
     "text": [
      "Using TensorFlow backend.\n"
     ]
    }
   ],
   "source": [
    " #from keras.preprocessing.image import ImageDataGenerator\n",
    "import tensorflow as tf\n",
    "from keras.models import Sequential, load_model\n",
    "from keras.layers import Conv2D, MaxPooling2D\n",
    "from keras.layers import Activation, Dropout, Flatten, Dense, Lambda, Multiply,GlobalAveragePooling2D\n",
    "from keras import backend as K\n",
    "import cv2, numpy as np\n",
    "import glob\n",
    "from keras.optimizers import SGD, Adam\n",
    "from keras.activations import relu \n",
    "import keras as keras\n",
    "from keras.models import Model,load_model\n",
    "from keras.layers import  Input,Conv2D,BatchNormalization,Activation,Lambda,Subtract,concatenate,Add,add,Reshape\n",
    "\n",
    "from keras.layers import Input, concatenate, Conv2D, MaxPooling2D, Conv2DTranspose,DepthwiseConv2D,Concatenate\n",
    "from keras.optimizers import Adam\n",
    "from keras.callbacks import ModelCheckpoint\n",
    "from keras import losses\n",
    "from keras.layers import  Layer,Activation, Lambda, MaxPooling2D, UpSampling2D, Conv2DTranspose, SpatialDropout2D\n",
    "import os\n",
    "from keras.callbacks import ModelCheckpoint, LearningRateScheduler\n",
    "from keras.callbacks import ReduceLROnPlateau\n",
    "from keras.callbacks import EarlyStopping \n",
    "from keras.callbacks import EarlyStopping, ModelCheckpoint, TensorBoard\n",
    "from  sklearn.model_selection import train_test_split\n",
    "\n",
    "#from tensorflow.python import debug as tf_debug\n",
    "import imageio\n",
    "import glob\n",
    "from skimage import transform as tf\n",
    "from keras.losses import mse, binary_crossentropy\n",
    "\n",
    "\n",
    "from scipy import ndimage\n",
    "import matplotlib.pyplot as plt\n",
    "import matplotlib.image as plt_img\n",
    "import scipy\n",
    "import scipy\n",
    "import skimage\n",
    "import re\n",
    "#import LRFinder\n",
    "import math as m\n",
    "import tensorflow as tf \n",
    "from keras.callbacks import ModelCheckpoint, ReduceLROnPlateau, LearningRateScheduler \n",
    "from keras import backend as K\n",
    "from pathlib import Path\n",
    "from keras import objectives\n",
    "\n",
    "from keras import optimizers\n",
    "\n",
    "import numpy as np\n",
    " \n",
    "from keras import backend as K\n",
    "from skimage.measure import compare_ssim, compare_psnr\n",
    "\n",
    "from keras.utils import to_categorical\n",
    "\n",
    "import cv2\n",
    "import numpy as np\n",
    "import matplotlib\n",
    "from matplotlib import pyplot as plt\n",
    "\n",
    "tf.random.Generator = None \n",
    "import tensorflow_addons as tfa\n",
    "from keras.datasets import  mnist, fashion_mnist\n",
    "\n",
    "import warnings\n",
    "warnings.filterwarnings('ignore')\n",
    "from keras.models import Model\n",
    "from keras.utils import to_categorical\n",
    "\n",
    "\n",
    "from datetime import datetime\n",
    "from scipy.fftpack import dct, idct\n",
    "import copy"
   ]
  },
  {
   "cell_type": "code",
   "execution_count": 2,
   "metadata": {},
   "outputs": [],
   "source": [
    "(x_train, y_train), (X_test, Y_test) = tf.keras.datasets.cifar10.load_data()"
   ]
  },
  {
   "cell_type": "code",
   "execution_count": 3,
   "metadata": {},
   "outputs": [
    {
     "name": "stdout",
     "output_type": "stream",
     "text": [
      "50000 50000 10000 10000\n"
     ]
    }
   ],
   "source": [
    "print(len(x_train), len(y_train),  len(X_test), len(Y_test))"
   ]
  },
  {
   "cell_type": "code",
   "execution_count": 4,
   "metadata": {},
   "outputs": [
    {
     "name": "stdout",
     "output_type": "stream",
     "text": [
      "(50000, 10) (10000, 10)\n"
     ]
    }
   ],
   "source": [
    "num_labels = len(np.unique(y_train))\n",
    "y_train = to_categorical(y_train)\n",
    "Y_test = to_categorical(Y_test)\n",
    "\n",
    "print(y_train.shape, Y_test.shape)"
   ]
  },
  {
   "cell_type": "code",
   "execution_count": 5,
   "metadata": {},
   "outputs": [
    {
     "name": "stdout",
     "output_type": "stream",
     "text": [
      "(50000, 32, 32, 3) (10000, 32, 32, 3)\n"
     ]
    }
   ],
   "source": [
    "image_size = x_train.shape[1]\n",
    "\n",
    "x_train = np.reshape(x_train,[-1, image_size, image_size, 3])\n",
    "X_test = np.reshape(X_test,[-1, image_size, image_size, 3])\n",
    "\n",
    "x_train = x_train.astype('float32') / 255\n",
    "X_test = X_test.astype('float32') / 255\n",
    "\n",
    "print(x_train.shape, X_test.shape)"
   ]
  },
  {
   "cell_type": "code",
   "execution_count": 6,
   "metadata": {},
   "outputs": [],
   "source": [
    " \n",
    "x_val=X_test[:8000]\n",
    "y_val=Y_test[:8000]\n",
    "x_test=X_test[8001:]\n",
    "y_test=Y_test[8001:]"
   ]
  },
  {
   "cell_type": "code",
   "execution_count": 7,
   "metadata": {},
   "outputs": [],
   "source": [
    "# network parameters\n",
    "input_shape = (image_size, image_size, 3)\n",
    "batch_size = 128\n",
    "kernel_size = 3\n",
    "filters = 64\n",
    "dropout = 0.3"
   ]
  },
  {
   "cell_type": "code",
   "execution_count": 8,
   "metadata": {},
   "outputs": [],
   "source": [
    "def conv_block(units, dropout=0.2, activation='relu', block=1, layer=1):\n",
    "\n",
    "    def layer_wrapper(inp):\n",
    "        x = Conv2D(units, (3, 3), padding='same', name='block{}_conv{}'.format(block, layer))(inp)\n",
    "        x = BatchNormalization(name='block{}_bn{}'.format(block, layer))(x)\n",
    "        x = Activation(activation, name='block{}_act{}'.format(block, layer))(x)\n",
    "        x = Dropout(dropout, name='block{}_dropout{}'.format(block, layer))(x)\n",
    "        return x\n",
    "\n",
    "    return layer_wrapper\n",
    "\n",
    "def dense_block(units, dropout=0.2, activation='relu', name='fc1'):\n",
    "\n",
    "    def layer_wrapper(inp):\n",
    "        x = Dense(units, name=name)(inp)\n",
    "        x = BatchNormalization(name='{}_bn'.format(name))(x)\n",
    "        x = Activation(activation, name='{}_act'.format(name))(x)\n",
    "        x = Dropout(dropout, name='{}_dropout'.format(name))(x)\n",
    "        return x\n",
    "\n",
    "    return layer_wrapper\n",
    "        \n",
    "\n",
    "def VGG16_BN(input_tensor=None, input_shape=None, classes=1000, conv_dropout=0.1, dropout=0.3, activation='relu'):\n",
    "    \"\"\"Instantiates the VGG16 architecture with Batch Normalization\n",
    "    # Arguments\n",
    "        input_tensor: Keras tensor (i.e. output of `layers.Input()`) to use as image input for the model.\n",
    "        input_shape: shape tuple\n",
    "        classes: optional number of classes to classify images\n",
    "    # Returns\n",
    "        A Keras model instance.\n",
    "    \"\"\"\n",
    "    img_input = Input(shape=input_shape) if input_tensor is None else (\n",
    "        Input(tensor=input_tensor, shape=input_shape) if not K.is_keras_tensor(input_tensor) else input_tensor\n",
    "    )\n",
    "\n",
    "    # Block 1\n",
    "    x = conv_block(32, dropout=conv_dropout, activation=activation, block=1, layer=1)(img_input)\n",
    "    x = conv_block(32, dropout=conv_dropout, activation=activation, block=1, layer=2)(x)\n",
    "    x = MaxPooling2D((2, 2), strides=(2, 2), name='block1_pool')(x)\n",
    "\n",
    "    # Block 2\n",
    "    x = conv_block(64, dropout=conv_dropout, activation=activation, block=2, layer=1)(x)\n",
    "    x = conv_block(64, dropout=conv_dropout, activation=activation, block=2, layer=2)(x)\n",
    "    x = MaxPooling2D((2, 2), strides=(2, 2), name='block2_pool')(x)\n",
    "\n",
    "    # Block 3\n",
    "    x = conv_block(128, dropout=conv_dropout, activation=activation, block=3, layer=1)(x)\n",
    "    x = conv_block(128, dropout=conv_dropout, activation=activation, block=3, layer=2)(x)\n",
    "    x = conv_block(128, dropout=conv_dropout, activation=activation, block=3, layer=3)(x)\n",
    "    x = MaxPooling2D((2, 2), strides=(2, 2), name='block3_pool')(x)\n",
    "\n",
    "    # Block 4\n",
    "    x = conv_block(256, dropout=conv_dropout, activation=activation, block=4, layer=1)(x)\n",
    "    x = conv_block(256, dropout=conv_dropout, activation=activation, block=4, layer=2)(x)\n",
    "    x = conv_block(256, dropout=conv_dropout, activation=activation, block=4, layer=3)(x)\n",
    "    x = MaxPooling2D((2, 2), strides=(2, 2), name='block4_pool')(x)\n",
    "\n",
    "    # Block 5\n",
    "    x = conv_block(256, dropout=conv_dropout, activation=activation, block=5, layer=1)(x)\n",
    "    x = conv_block(256, dropout=conv_dropout, activation=activation, block=5, layer=2)(x)\n",
    "    x = conv_block(256, dropout=conv_dropout, activation=activation, block=5, layer=3)(x)\n",
    "    x = MaxPooling2D((2, 2), strides=(2, 2), name='block5_pool')(x)\n",
    "\n",
    "    # Flatten\n",
    "    x = GlobalAveragePooling2D()(x)\n",
    "\n",
    "    # FC Layers\n",
    "    x = dense_block(512, dropout=dropout, activation=activation, name='fc1')(x)\n",
    "    x = dense_block(512, dropout=dropout, activation=activation, name='fc2')(x)\n",
    "    \n",
    "    # Classification block    \n",
    "    x = Dense(classes, activation='softmax', name='predictions')(x)\n",
    "\n",
    "    # Ensure that the model takes into account any potential predecessors of `input_tensor`.\n",
    "    inputs = get_source_inputs(input_tensor) if input_tensor is not None else img_input\n",
    "\n",
    "    # Create model.\n",
    "    return Model(inputs, x, name='vgg16_bn')"
   ]
  },
  {
   "cell_type": "code",
   "execution_count": 9,
   "metadata": {},
   "outputs": [],
   "source": [
    "from keras.models import Model\n",
    "\n",
    "inputs = Input(shape=input_shape)\n",
    "y = Conv2D(filters=filters,kernel_size=kernel_size,activation='relu')(inputs)\n",
    "y = MaxPooling2D()(y)\n",
    "y = Conv2D(filters=filters,kernel_size=kernel_size,activation='relu')(y)\n",
    "y = MaxPooling2D()(y)\n",
    "y = Conv2D(filters=filters,kernel_size=kernel_size,activation='relu')(y)\n",
    " \n",
    "y = Flatten()(y)\n",
    " \n",
    "y = Dropout(dropout)(y)\n",
    "outputs = Dense(num_labels, activation='softmax')(y)\n",
    "\n",
    " \n",
    "model = Model(inputs=inputs, outputs=outputs)\n",
    "\n",
    " \n",
    "#model =VGG16_BN(input_tensor=None, input_shape=x_train.shape[1:], classes=10, conv_dropout=0.1, dropout=0.3, activation='relu')\n",
    " \n",
    "#model.summary()"
   ]
  },
  {
   "cell_type": "code",
   "execution_count": 10,
   "metadata": {},
   "outputs": [],
   "source": [
    " \n",
    "from adam_or import Aadam\n",
    "from Ada_mod import Adamod"
   ]
  },
  {
   "cell_type": "code",
   "execution_count": 11,
   "metadata": {},
   "outputs": [],
   "source": [
    "fw=model.get_weights()"
   ]
  },
  {
   "cell_type": "code",
   "execution_count": 12,
   "metadata": {},
   "outputs": [
    {
     "name": "stdout",
     "output_type": "stream",
     "text": [
      "Train on 50000 samples, validate on 1999 samples\n",
      "Epoch 1/30\n",
      "50000/50000 [==============================] - 9s 179us/step - loss: 1.6136 - accuracy: 0.4061 - val_loss: 1.2919 - val_accuracy: 0.5418\n",
      "Epoch 2/30\n",
      "50000/50000 [==============================] - 8s 159us/step - loss: 1.2157 - accuracy: 0.5673 - val_loss: 1.0679 - val_accuracy: 0.6273\n",
      "Epoch 3/30\n",
      "50000/50000 [==============================] - 8s 161us/step - loss: 1.0631 - accuracy: 0.6262 - val_loss: 1.0083 - val_accuracy: 0.6483\n",
      "Epoch 4/30\n",
      "50000/50000 [==============================] - 8s 161us/step - loss: 0.9685 - accuracy: 0.6631 - val_loss: 0.9489 - val_accuracy: 0.6678\n",
      "Epoch 5/30\n",
      "50000/50000 [==============================] - 8s 159us/step - loss: 0.8994 - accuracy: 0.6850 - val_loss: 0.9330 - val_accuracy: 0.6708\n",
      "Epoch 6/30\n",
      "50000/50000 [==============================] - 8s 158us/step - loss: 0.8507 - accuracy: 0.7030 - val_loss: 0.9078 - val_accuracy: 0.6823\n",
      "Epoch 7/30\n",
      "50000/50000 [==============================] - 8s 157us/step - loss: 0.8096 - accuracy: 0.7173 - val_loss: 0.8243 - val_accuracy: 0.7124\n",
      "Epoch 8/30\n",
      "50000/50000 [==============================] - 8s 159us/step - loss: 0.7777 - accuracy: 0.7279 - val_loss: 0.8548 - val_accuracy: 0.6973\n",
      "Epoch 9/30\n",
      "50000/50000 [==============================] - 8s 160us/step - loss: 0.7493 - accuracy: 0.7370 - val_loss: 0.7938 - val_accuracy: 0.7164\n",
      "Epoch 10/30\n",
      "50000/50000 [==============================] - 8s 161us/step - loss: 0.7204 - accuracy: 0.7482 - val_loss: 0.8089 - val_accuracy: 0.7189\n",
      "Epoch 11/30\n",
      "50000/50000 [==============================] - 8s 157us/step - loss: 0.6970 - accuracy: 0.7532 - val_loss: 0.7774 - val_accuracy: 0.7249\n",
      "Epoch 12/30\n",
      "50000/50000 [==============================] - 8s 156us/step - loss: 0.6727 - accuracy: 0.7637 - val_loss: 0.7921 - val_accuracy: 0.7264\n",
      "Epoch 13/30\n",
      "50000/50000 [==============================] - 8s 158us/step - loss: 0.6528 - accuracy: 0.7707 - val_loss: 0.7800 - val_accuracy: 0.7329\n",
      "Epoch 14/30\n",
      "50000/50000 [==============================] - 8s 159us/step - loss: 0.6384 - accuracy: 0.7764 - val_loss: 0.7734 - val_accuracy: 0.7284\n",
      "Epoch 15/30\n",
      "50000/50000 [==============================] - 8s 153us/step - loss: 0.6205 - accuracy: 0.7822 - val_loss: 0.7812 - val_accuracy: 0.7359\n",
      "Epoch 16/30\n",
      "50000/50000 [==============================] - 8s 154us/step - loss: 0.6038 - accuracy: 0.7859 - val_loss: 0.8528 - val_accuracy: 0.7249\n",
      "Epoch 17/30\n",
      "50000/50000 [==============================] - 8s 157us/step - loss: 0.5892 - accuracy: 0.7915 - val_loss: 0.7752 - val_accuracy: 0.7399\n",
      "Epoch 18/30\n",
      "50000/50000 [==============================] - 8s 157us/step - loss: 0.5703 - accuracy: 0.7976 - val_loss: 0.7792 - val_accuracy: 0.7369\n",
      "Epoch 19/30\n",
      "50000/50000 [==============================] - 8s 158us/step - loss: 0.5562 - accuracy: 0.8041 - val_loss: 0.8087 - val_accuracy: 0.7274\n",
      "Epoch 20/30\n",
      "50000/50000 [==============================] - 8s 162us/step - loss: 0.5457 - accuracy: 0.8066 - val_loss: 0.7694 - val_accuracy: 0.7469\n",
      "Epoch 21/30\n",
      "50000/50000 [==============================] - 8s 157us/step - loss: 0.5270 - accuracy: 0.8130 - val_loss: 0.7827 - val_accuracy: 0.7464\n",
      "Epoch 22/30\n",
      "50000/50000 [==============================] - 8s 160us/step - loss: 0.5232 - accuracy: 0.8148 - val_loss: 0.7599 - val_accuracy: 0.7459\n",
      "Epoch 23/30\n",
      "50000/50000 [==============================] - 8s 156us/step - loss: 0.5008 - accuracy: 0.8218 - val_loss: 0.7921 - val_accuracy: 0.7514\n",
      "Epoch 24/30\n",
      "50000/50000 [==============================] - 8s 157us/step - loss: 0.5006 - accuracy: 0.8226 - val_loss: 0.8113 - val_accuracy: 0.7379\n",
      "Epoch 25/30\n",
      "50000/50000 [==============================] - 8s 157us/step - loss: 0.4885 - accuracy: 0.8248 - val_loss: 0.8284 - val_accuracy: 0.7374\n",
      "Epoch 26/30\n",
      "50000/50000 [==============================] - 8s 157us/step - loss: 0.4814 - accuracy: 0.8283 - val_loss: 0.8045 - val_accuracy: 0.7429\n",
      "Epoch 27/30\n",
      "50000/50000 [==============================] - 8s 157us/step - loss: 0.4710 - accuracy: 0.8324 - val_loss: 0.8249 - val_accuracy: 0.7349\n",
      "Epoch 28/30\n",
      "50000/50000 [==============================] - 8s 157us/step - loss: 0.4654 - accuracy: 0.8337 - val_loss: 0.8502 - val_accuracy: 0.7409\n",
      "Epoch 29/30\n",
      "50000/50000 [==============================] - 8s 157us/step - loss: 0.4527 - accuracy: 0.8397 - val_loss: 0.8415 - val_accuracy: 0.7384\n",
      "Epoch 30/30\n",
      "50000/50000 [==============================] - 8s 157us/step - loss: 0.4451 - accuracy: 0.8404 - val_loss: 0.8625 - val_accuracy: 0.7229\n"
     ]
    }
   ],
   "source": [
    "ep=30\n",
    "lra=[5e-3,1e-3,5e-4,1e-4]\n",
    "optimizer = Adamod()\n",
    "\n",
    "\n",
    "weights_dict = {}\n",
    "\n",
    "weight_callback = tf.keras.callbacks.LambdaCallback \\\n",
    "( on_epoch_end=lambda epoch, logs: weights_dict.update({epoch:model.get_weights()}))\n",
    "\n",
    "\n",
    "model.compile(optimizer, loss='categorical_crossentropy', metrics=['accuracy'])\n",
    " \n",
    "\n",
    "\n",
    "hb1=model.fit(x_train,y_train, epochs=ep, validation_data=(x_test, y_test), callbacks = [weight_callback  ])"
   ]
  },
  {
   "cell_type": "code",
   "execution_count": 13,
   "metadata": {},
   "outputs": [],
   "source": [
    "# fw=model.get_weights()\n",
    "# model2=model\n",
    "\n",
    "# model2.set_weights(fw)"
   ]
  },
  {
   "cell_type": "code",
   "execution_count": 14,
   "metadata": {},
   "outputs": [
    {
     "name": "stdout",
     "output_type": "stream",
     "text": [
      "Train on 50000 samples, validate on 1999 samples\n",
      "Epoch 1/30\n",
      "50000/50000 [==============================] - 8s 157us/step - loss: 1.6061 - accuracy: 0.4136 - val_loss: 1.2874 - val_accuracy: 0.5393\n",
      "Epoch 2/30\n",
      "50000/50000 [==============================] - 8s 152us/step - loss: 1.2730 - accuracy: 0.5464 - val_loss: 1.1224 - val_accuracy: 0.5918\n",
      "Epoch 3/30\n",
      "50000/50000 [==============================] - 8s 153us/step - loss: 1.1444 - accuracy: 0.5964 - val_loss: 1.1022 - val_accuracy: 0.6013\n",
      "Epoch 4/30\n",
      "50000/50000 [==============================] - 8s 154us/step - loss: 1.0560 - accuracy: 0.6280 - val_loss: 1.0866 - val_accuracy: 0.6143\n",
      "Epoch 5/30\n",
      "50000/50000 [==============================] - 8s 154us/step - loss: 0.9956 - accuracy: 0.6498 - val_loss: 0.9714 - val_accuracy: 0.6648\n",
      "Epoch 6/30\n",
      "50000/50000 [==============================] - 8s 154us/step - loss: 0.9450 - accuracy: 0.6696 - val_loss: 0.9721 - val_accuracy: 0.6588\n",
      "Epoch 7/30\n",
      "50000/50000 [==============================] - 8s 153us/step - loss: 0.9058 - accuracy: 0.6820 - val_loss: 0.9187 - val_accuracy: 0.6838\n",
      "Epoch 8/30\n",
      "50000/50000 [==============================] - 8s 153us/step - loss: 0.8728 - accuracy: 0.6943 - val_loss: 0.9141 - val_accuracy: 0.6733\n",
      "Epoch 9/30\n",
      "50000/50000 [==============================] - 8s 153us/step - loss: 0.8401 - accuracy: 0.7069 - val_loss: 0.8490 - val_accuracy: 0.6993\n",
      "Epoch 10/30\n",
      "50000/50000 [==============================] - 8s 153us/step - loss: 0.8217 - accuracy: 0.7141 - val_loss: 0.9083 - val_accuracy: 0.6868\n",
      "Epoch 11/30\n",
      "50000/50000 [==============================] - 8s 152us/step - loss: 0.7886 - accuracy: 0.7240 - val_loss: 0.8733 - val_accuracy: 0.6963\n",
      "Epoch 12/30\n",
      "50000/50000 [==============================] - 8s 153us/step - loss: 0.7708 - accuracy: 0.7300 - val_loss: 0.8195 - val_accuracy: 0.7149\n",
      "Epoch 13/30\n",
      "50000/50000 [==============================] - 8s 151us/step - loss: 0.7528 - accuracy: 0.7360 - val_loss: 0.8309 - val_accuracy: 0.7099\n",
      "Epoch 14/30\n",
      "50000/50000 [==============================] - 8s 152us/step - loss: 0.7409 - accuracy: 0.7416 - val_loss: 0.8748 - val_accuracy: 0.6973\n",
      "Epoch 15/30\n",
      "50000/50000 [==============================] - 8s 152us/step - loss: 0.7188 - accuracy: 0.7467 - val_loss: 0.8471 - val_accuracy: 0.7044\n",
      "Epoch 16/30\n",
      "50000/50000 [==============================] - 8s 152us/step - loss: 0.6980 - accuracy: 0.7555 - val_loss: 0.8147 - val_accuracy: 0.7239\n",
      "Epoch 17/30\n",
      "50000/50000 [==============================] - 8s 153us/step - loss: 0.6865 - accuracy: 0.7582 - val_loss: 0.7934 - val_accuracy: 0.7274\n",
      "Epoch 18/30\n",
      "50000/50000 [==============================] - 8s 153us/step - loss: 0.6711 - accuracy: 0.7640 - val_loss: 0.7925 - val_accuracy: 0.7304\n",
      "Epoch 19/30\n",
      "50000/50000 [==============================] - 8s 153us/step - loss: 0.6637 - accuracy: 0.7667 - val_loss: 0.7996 - val_accuracy: 0.7174\n",
      "Epoch 20/30\n",
      "50000/50000 [==============================] - 8s 153us/step - loss: 0.6510 - accuracy: 0.7728 - val_loss: 0.7876 - val_accuracy: 0.7274\n",
      "Epoch 21/30\n",
      "50000/50000 [==============================] - 8s 152us/step - loss: 0.6349 - accuracy: 0.7782 - val_loss: 0.7909 - val_accuracy: 0.7224\n",
      "Epoch 22/30\n",
      "50000/50000 [==============================] - 8s 160us/step - loss: 0.6232 - accuracy: 0.7808 - val_loss: 0.7704 - val_accuracy: 0.7279\n",
      "Epoch 23/30\n",
      "50000/50000 [==============================] - 8s 158us/step - loss: 0.6134 - accuracy: 0.7849 - val_loss: 0.7833 - val_accuracy: 0.7229\n",
      "Epoch 24/30\n",
      "50000/50000 [==============================] - 8s 155us/step - loss: 0.6055 - accuracy: 0.7868 - val_loss: 0.7870 - val_accuracy: 0.7334\n",
      "Epoch 25/30\n",
      "50000/50000 [==============================] - 8s 154us/step - loss: 0.5946 - accuracy: 0.7911 - val_loss: 0.7794 - val_accuracy: 0.7424\n",
      "Epoch 26/30\n",
      "50000/50000 [==============================] - 8s 153us/step - loss: 0.5888 - accuracy: 0.7914 - val_loss: 0.7869 - val_accuracy: 0.7244\n",
      "Epoch 27/30\n",
      "50000/50000 [==============================] - 8s 152us/step - loss: 0.5813 - accuracy: 0.7947 - val_loss: 0.7740 - val_accuracy: 0.7339\n",
      "Epoch 28/30\n",
      "50000/50000 [==============================] - 8s 152us/step - loss: 0.5720 - accuracy: 0.7982 - val_loss: 0.8267 - val_accuracy: 0.7274\n",
      "Epoch 29/30\n",
      "50000/50000 [==============================] - 8s 153us/step - loss: 0.5664 - accuracy: 0.7999 - val_loss: 0.8895 - val_accuracy: 0.7094\n",
      "Epoch 30/30\n",
      "50000/50000 [==============================] - 8s 153us/step - loss: 0.5615 - accuracy: 0.8010 - val_loss: 0.7781 - val_accuracy: 0.7359\n"
     ]
    }
   ],
   "source": [
    "model2=  Model(inputs=inputs, outputs=outputs)\n",
    "optimizer = Aadam()\n",
    "model2.set_weights(fw)\n",
    "\n",
    "weights_dict = {}\n",
    "\n",
    "weight_callback = tf.keras.callbacks.LambdaCallback \\\n",
    "( on_epoch_end=lambda epoch, logs: weights_dict.update({epoch:model.get_weights()}))\n",
    "\n",
    "\n",
    "model2.compile(optimizer, loss='categorical_crossentropy', metrics=['accuracy'])\n",
    " \n",
    "\n",
    "\n",
    "hb2=model2.fit(x_train,y_train, epochs=ep, validation_data=(x_test, y_test), callbacks = [weight_callback  ])"
   ]
  },
  {
   "cell_type": "code",
   "execution_count": 15,
   "metadata": {},
   "outputs": [],
   "source": [
    "h1=hb1.history['accuracy']\n",
    "h2=hb2.history['accuracy']"
   ]
  },
  {
   "cell_type": "code",
   "execution_count": 16,
   "metadata": {},
   "outputs": [
    {
     "data": {
      "image/png": "[encoded data removed]",
      "text/plain": [
       "<Figure size 432x288 with 1 Axes>"
      ]
     },
     "metadata": {
      "needs_background": "light"
     },
     "output_type": "display_data"
    }
   ],
   "source": [
    "plt.plot(h1)\n",
    "plt.plot(h2)\n",
    "plt.title('model accuracy')\n",
    "plt.ylabel('accuracy')\n",
    "plt.xlabel('epoch')\n",
    "plt.legend(['AdaMod', 'Adam'], loc='upper left')\n",
    "plt.show()"
   ]
  },
  {
   "cell_type": "code",
   "execution_count": 17,
   "metadata": {},
   "outputs": [],
   "source": [
    "vh1=hb1.history['val_accuracy']\n",
    "vh2=hb2.history['val_accuracy']"
   ]
  },
  {
   "cell_type": "code",
   "execution_count": 18,
   "metadata": {},
   "outputs": [
    {
     "data": {
      "image/png": "[encoded data removed]",
      "text/plain": [
       "<Figure size 432x288 with 1 Axes>"
      ]
     },
     "metadata": {
      "needs_background": "light"
     },
     "output_type": "display_data"
    }
   ],
   "source": [
    "plt.plot(vh1)\n",
    "plt.plot(vh2)\n",
    "plt.title('model accuracy')\n",
    "plt.ylabel('accuracy')\n",
    "plt.xlabel('epoch')\n",
    "plt.legend(['AdaMod', 'Adam'], loc='upper left')\n",
    "plt.show()"
   ]
  },
  {
   "cell_type": "code",
   "execution_count": null,
   "metadata": {},
   "outputs": [],
   "source": []
  }
 ],
 "metadata": {
  "kernelspec": {
   "display_name": "Python [conda env:Bdeep] *",
   "language": "python",
   "name": "conda-env-Bdeep-py"
  },
  "language_info": {
   "codemirror_mode": {
    "name": "ipython",
    "version": 3
   },
   "file_extension": ".py",
   "mimetype": "text/x-python",
   "name": "python",
   "nbconvert_exporter": "python",
   "pygments_lexer": "ipython3",
   "version": "3.7.9"
  }
 },
 "nbformat": 4,
 "nbformat_minor": 4
}
