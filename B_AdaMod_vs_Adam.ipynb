{
 "cells": [
  {
   "cell_type": "code",
   "execution_count": 1,
   "metadata": {},
   "outputs": [
    {
     "name": "stderr",
     "output_type": "stream",
     "text": [
      "Using TensorFlow backend.\n"
     ]
    }
   ],
   "source": [
    " #from keras.preprocessing.image import ImageDataGenerator\n",
    "import tensorflow as tf\n",
    "from keras.models import Sequential, load_model\n",
    "from keras.layers import Conv2D, MaxPooling2D\n",
    "from keras.layers import Activation, Dropout, Flatten, Dense, Lambda, Multiply,GlobalAveragePooling2D\n",
    "from keras import backend as K\n",
    "import cv2, numpy as np\n",
    "import glob\n",
    "from keras.optimizers import SGD, Adam\n",
    "from keras.activations import relu \n",
    "import keras as keras\n",
    "from keras.models import Model,load_model\n",
    "from keras.layers import  Input,Conv2D,BatchNormalization,Activation,Lambda,Subtract,concatenate,Add,add,Reshape\n",
    "\n",
    "from keras.layers import Input, concatenate, Conv2D, MaxPooling2D, Conv2DTranspose,DepthwiseConv2D,Concatenate\n",
    "from keras.optimizers import Adam\n",
    "from keras.callbacks import ModelCheckpoint\n",
    "from keras import losses\n",
    "from keras.layers import  Layer,Activation, Lambda, MaxPooling2D, UpSampling2D, Conv2DTranspose, SpatialDropout2D\n",
    "import os\n",
    "from keras.callbacks import ModelCheckpoint, LearningRateScheduler\n",
    "from keras.callbacks import ReduceLROnPlateau\n",
    "from keras.callbacks import EarlyStopping \n",
    "from keras.callbacks import EarlyStopping, ModelCheckpoint, TensorBoard\n",
    "from  sklearn.model_selection import train_test_split\n",
    "\n",
    "#from tensorflow.python import debug as tf_debug\n",
    "import imageio\n",
    "import glob\n",
    "from skimage import transform as tf\n",
    "from keras.losses import mse, binary_crossentropy\n",
    "\n",
    "\n",
    "from scipy import ndimage\n",
    "import matplotlib.pyplot as plt\n",
    "import matplotlib.image as plt_img\n",
    "import scipy\n",
    "import scipy\n",
    "import skimage\n",
    "import re\n",
    "#import LRFinder\n",
    "import math as m\n",
    "import tensorflow as tf \n",
    "from keras.callbacks import ModelCheckpoint, ReduceLROnPlateau, LearningRateScheduler \n",
    "from keras import backend as K\n",
    "from pathlib import Path\n",
    "from keras import objectives\n",
    "\n",
    "from keras import optimizers\n",
    "\n",
    "import numpy as np\n",
    " \n",
    "from keras import backend as K\n",
    "from skimage.measure import compare_ssim, compare_psnr\n",
    "\n",
    "from keras.utils import to_categorical\n",
    "\n",
    "import cv2\n",
    "import numpy as np\n",
    "import matplotlib\n",
    "from matplotlib import pyplot as plt\n",
    "\n",
    "tf.random.Generator = None \n",
    "import tensorflow_addons as tfa\n",
    "from keras.datasets import  mnist, fashion_mnist\n",
    "\n",
    "import warnings\n",
    "warnings.filterwarnings('ignore')\n",
    "from keras.models import Model\n",
    "from keras.utils import to_categorical\n",
    "\n",
    "\n",
    "from datetime import datetime\n",
    "from scipy.fftpack import dct, idct\n",
    "import copy"
   ]
  },
  {
   "cell_type": "code",
   "execution_count": 2,
   "metadata": {},
   "outputs": [],
   "source": [
    "(x_train, y_train), (X_test, Y_test) = tf.keras.datasets.cifar10.load_data()"
   ]
  },
  {
   "cell_type": "code",
   "execution_count": 3,
   "metadata": {},
   "outputs": [
    {
     "name": "stdout",
     "output_type": "stream",
     "text": [
      "50000 50000 10000 10000\n"
     ]
    }
   ],
   "source": [
    "print(len(x_train), len(y_train),  len(X_test), len(Y_test))"
   ]
  },
  {
   "cell_type": "code",
   "execution_count": 4,
   "metadata": {},
   "outputs": [
    {
     "name": "stdout",
     "output_type": "stream",
     "text": [
      "(50000, 10) (10000, 10)\n"
     ]
    }
   ],
   "source": [
    "num_labels = len(np.unique(y_train))\n",
    "y_train = to_categorical(y_train)\n",
    "Y_test = to_categorical(Y_test)\n",
    "\n",
    "print(y_train.shape, Y_test.shape)"
   ]
  },
  {
   "cell_type": "code",
   "execution_count": 5,
   "metadata": {},
   "outputs": [
    {
     "name": "stdout",
     "output_type": "stream",
     "text": [
      "(50000, 32, 32, 3) (10000, 32, 32, 3)\n"
     ]
    }
   ],
   "source": [
    "image_size = x_train.shape[1]\n",
    "\n",
    "x_train = np.reshape(x_train,[-1, image_size, image_size, 3])\n",
    "X_test = np.reshape(X_test,[-1, image_size, image_size, 3])\n",
    "\n",
    "x_train = x_train.astype('float32') / 255\n",
    "X_test = X_test.astype('float32') / 255\n",
    "\n",
    "print(x_train.shape, X_test.shape)"
   ]
  },
  {
   "cell_type": "code",
   "execution_count": 6,
   "metadata": {},
   "outputs": [],
   "source": [
    " \n",
    "x_val=X_test[:8000]\n",
    "y_val=Y_test[:8000]\n",
    "x_test=X_test[8001:]\n",
    "y_test=Y_test[8001:]"
   ]
  },
  {
   "cell_type": "code",
   "execution_count": 7,
   "metadata": {},
   "outputs": [],
   "source": [
    "# network parameters\n",
    "input_shape = (image_size, image_size, 3)\n",
    "batch_size = 128\n",
    "kernel_size = 3\n",
    "filters = 64\n",
    "dropout = 0.3"
   ]
  },
  {
   "cell_type": "code",
   "execution_count": 8,
   "metadata": {},
   "outputs": [],
   "source": [
    "def conv_block(units, dropout=0.2, activation='relu', block=1, layer=1):\n",
    "\n",
    "    def layer_wrapper(inp):\n",
    "        x = Conv2D(units, (3, 3), padding='same', name='block{}_conv{}'.format(block, layer))(inp)\n",
    "        x = BatchNormalization(name='block{}_bn{}'.format(block, layer))(x)\n",
    "        x = Activation(activation, name='block{}_act{}'.format(block, layer))(x)\n",
    "        x = Dropout(dropout, name='block{}_dropout{}'.format(block, layer))(x)\n",
    "        return x\n",
    "\n",
    "    return layer_wrapper\n",
    "\n",
    "def dense_block(units, dropout=0.2, activation='relu', name='fc1'):\n",
    "\n",
    "    def layer_wrapper(inp):\n",
    "        x = Dense(units, name=name)(inp)\n",
    "        x = BatchNormalization(name='{}_bn'.format(name))(x)\n",
    "        x = Activation(activation, name='{}_act'.format(name))(x)\n",
    "        x = Dropout(dropout, name='{}_dropout'.format(name))(x)\n",
    "        return x\n",
    "\n",
    "    return layer_wrapper\n",
    "        \n",
    "\n",
    "def VGG16_BN(input_tensor=None, input_shape=None, classes=1000, conv_dropout=0.1, dropout=0.3, activation='relu'):\n",
    "    \"\"\"Instantiates the VGG16 architecture with Batch Normalization\n",
    "    # Arguments\n",
    "        input_tensor: Keras tensor (i.e. output of `layers.Input()`) to use as image input for the model.\n",
    "        input_shape: shape tuple\n",
    "        classes: optional number of classes to classify images\n",
    "    # Returns\n",
    "        A Keras model instance.\n",
    "    \"\"\"\n",
    "    img_input = Input(shape=input_shape) if input_tensor is None else (\n",
    "        Input(tensor=input_tensor, shape=input_shape) if not K.is_keras_tensor(input_tensor) else input_tensor\n",
    "    )\n",
    "\n",
    "    # Block 1\n",
    "    x = conv_block(32, dropout=conv_dropout, activation=activation, block=1, layer=1)(img_input)\n",
    "    x = conv_block(32, dropout=conv_dropout, activation=activation, block=1, layer=2)(x)\n",
    "    x = MaxPooling2D((2, 2), strides=(2, 2), name='block1_pool')(x)\n",
    "\n",
    "    # Block 2\n",
    "    x = conv_block(64, dropout=conv_dropout, activation=activation, block=2, layer=1)(x)\n",
    "    x = conv_block(64, dropout=conv_dropout, activation=activation, block=2, layer=2)(x)\n",
    "    x = MaxPooling2D((2, 2), strides=(2, 2), name='block2_pool')(x)\n",
    "\n",
    "    # Block 3\n",
    "    x = conv_block(128, dropout=conv_dropout, activation=activation, block=3, layer=1)(x)\n",
    "    x = conv_block(128, dropout=conv_dropout, activation=activation, block=3, layer=2)(x)\n",
    "    x = conv_block(128, dropout=conv_dropout, activation=activation, block=3, layer=3)(x)\n",
    "    x = MaxPooling2D((2, 2), strides=(2, 2), name='block3_pool')(x)\n",
    "\n",
    "    # Block 4\n",
    "    x = conv_block(256, dropout=conv_dropout, activation=activation, block=4, layer=1)(x)\n",
    "    x = conv_block(256, dropout=conv_dropout, activation=activation, block=4, layer=2)(x)\n",
    "    x = conv_block(256, dropout=conv_dropout, activation=activation, block=4, layer=3)(x)\n",
    "    x = MaxPooling2D((2, 2), strides=(2, 2), name='block4_pool')(x)\n",
    "\n",
    "    # Block 5\n",
    "    x = conv_block(256, dropout=conv_dropout, activation=activation, block=5, layer=1)(x)\n",
    "    x = conv_block(256, dropout=conv_dropout, activation=activation, block=5, layer=2)(x)\n",
    "    x = conv_block(256, dropout=conv_dropout, activation=activation, block=5, layer=3)(x)\n",
    "    x = MaxPooling2D((2, 2), strides=(2, 2), name='block5_pool')(x)\n",
    "\n",
    "    # Flatten\n",
    "    x = GlobalAveragePooling2D()(x)\n",
    "\n",
    "    # FC Layers\n",
    "    x = dense_block(512, dropout=dropout, activation=activation, name='fc1')(x)\n",
    "    x = dense_block(512, dropout=dropout, activation=activation, name='fc2')(x)\n",
    "    \n",
    "    # Classification block    \n",
    "    x = Dense(classes, activation='softmax', name='predictions')(x)\n",
    "\n",
    "    # Ensure that the model takes into account any potential predecessors of `input_tensor`.\n",
    "    inputs = get_source_inputs(input_tensor) if input_tensor is not None else img_input\n",
    "\n",
    "    # Create model.\n",
    "    return Model(inputs, x, name='vgg16_bn')"
   ]
  },
  {
   "cell_type": "code",
   "execution_count": 9,
   "metadata": {},
   "outputs": [],
   "source": [
    "from keras.models import Model\n",
    "\n",
    "inputs = Input(shape=input_shape)\n",
    "y = Conv2D(filters=filters,kernel_size=kernel_size,activation='relu')(inputs)\n",
    "y = MaxPooling2D()(y)\n",
    "y = Conv2D(filters=filters,kernel_size=kernel_size,activation='relu')(y)\n",
    "y = MaxPooling2D()(y)\n",
    "y = Conv2D(filters=filters,kernel_size=kernel_size,activation='relu')(y)\n",
    " \n",
    "y = Flatten()(y)\n",
    " \n",
    "y = Dropout(dropout)(y)\n",
    "outputs = Dense(num_labels, activation='softmax')(y)\n",
    "\n",
    " \n",
    "model = Model(inputs=inputs, outputs=outputs)\n",
    "\n",
    " \n",
    "#model =VGG16_BN(input_tensor=None, input_shape=x_train.shape[1:], classes=10, conv_dropout=0.1, dropout=0.3, activation='relu')\n",
    " \n",
    "#model.summary()"
   ]
  },
  {
   "cell_type": "code",
   "execution_count": 10,
   "metadata": {},
   "outputs": [],
   "source": [
    " \n",
    "from adam_or import Aadam\n",
    "from Ada_mod import Adamod"
   ]
  },
  {
   "cell_type": "code",
   "execution_count": 11,
   "metadata": {},
   "outputs": [],
   "source": [
    "fw=model.get_weights()"
   ]
  },
  {
   "cell_type": "code",
   "execution_count": 12,
   "metadata": {},
   "outputs": [
    {
     "name": "stdout",
     "output_type": "stream",
     "text": [
      "Train on 50000 samples, validate on 1999 samples\n",
      "Epoch 1/30\n",
      "50000/50000 [==============================] - 9s 171us/step - loss: 1.5425 - accuracy: 0.4377 - val_loss: 1.2708 - val_accuracy: 0.5388\n",
      "Epoch 2/30\n",
      "50000/50000 [==============================] - 7s 148us/step - loss: 1.2073 - accuracy: 0.5725 - val_loss: 1.1295 - val_accuracy: 0.6103\n",
      "Epoch 3/30\n",
      "50000/50000 [==============================] - 7s 148us/step - loss: 1.0728 - accuracy: 0.6240 - val_loss: 1.1224 - val_accuracy: 0.5988\n",
      "Epoch 4/30\n",
      "50000/50000 [==============================] - 8s 150us/step - loss: 0.9815 - accuracy: 0.6573 - val_loss: 0.9811 - val_accuracy: 0.6488\n",
      "Epoch 5/30\n",
      "50000/50000 [==============================] - 8s 154us/step - loss: 0.9177 - accuracy: 0.6785 - val_loss: 0.8768 - val_accuracy: 0.6893\n",
      "Epoch 6/30\n",
      "50000/50000 [==============================] - 8s 155us/step - loss: 0.8744 - accuracy: 0.6952 - val_loss: 0.8858 - val_accuracy: 0.6993\n",
      "Epoch 7/30\n",
      "50000/50000 [==============================] - 7s 149us/step - loss: 0.8395 - accuracy: 0.7048 - val_loss: 0.8414 - val_accuracy: 0.7049\n",
      "Epoch 8/30\n",
      "50000/50000 [==============================] - 7s 150us/step - loss: 0.8061 - accuracy: 0.7175 - val_loss: 0.8302 - val_accuracy: 0.7099\n",
      "Epoch 9/30\n",
      "50000/50000 [==============================] - 8s 154us/step - loss: 0.7830 - accuracy: 0.7244 - val_loss: 0.8055 - val_accuracy: 0.7119\n",
      "Epoch 10/30\n",
      "50000/50000 [==============================] - 7s 149us/step - loss: 0.7614 - accuracy: 0.7323 - val_loss: 0.8095 - val_accuracy: 0.7109\n",
      "Epoch 11/30\n",
      "50000/50000 [==============================] - 8s 152us/step - loss: 0.7381 - accuracy: 0.7410 - val_loss: 0.8470 - val_accuracy: 0.7074\n",
      "Epoch 12/30\n",
      "50000/50000 [==============================] - 8s 151us/step - loss: 0.7157 - accuracy: 0.7523 - val_loss: 0.7740 - val_accuracy: 0.7204\n",
      "Epoch 13/30\n",
      "50000/50000 [==============================] - 8s 150us/step - loss: 0.7018 - accuracy: 0.7559 - val_loss: 0.7928 - val_accuracy: 0.7289\n",
      "Epoch 14/30\n",
      "50000/50000 [==============================] - 8s 152us/step - loss: 0.6835 - accuracy: 0.7598 - val_loss: 0.7751 - val_accuracy: 0.7264\n",
      "Epoch 15/30\n",
      "50000/50000 [==============================] - 8s 153us/step - loss: 0.6708 - accuracy: 0.7642 - val_loss: 0.7671 - val_accuracy: 0.7344\n",
      "Epoch 16/30\n",
      "50000/50000 [==============================] - 8s 153us/step - loss: 0.6601 - accuracy: 0.7674 - val_loss: 0.7595 - val_accuracy: 0.7324\n",
      "Epoch 17/30\n",
      "50000/50000 [==============================] - 7s 148us/step - loss: 0.6417 - accuracy: 0.7758 - val_loss: 0.7585 - val_accuracy: 0.7334\n",
      "Epoch 18/30\n",
      "50000/50000 [==============================] - 7s 149us/step - loss: 0.6303 - accuracy: 0.7789 - val_loss: 0.7653 - val_accuracy: 0.7404\n",
      "Epoch 19/30\n",
      "50000/50000 [==============================] - 7s 150us/step - loss: 0.6220 - accuracy: 0.7817 - val_loss: 0.7786 - val_accuracy: 0.7334\n",
      "Epoch 20/30\n",
      "50000/50000 [==============================] - 7s 150us/step - loss: 0.6101 - accuracy: 0.7844 - val_loss: 0.7500 - val_accuracy: 0.7384\n",
      "Epoch 21/30\n",
      "50000/50000 [==============================] - 8s 151us/step - loss: 0.5985 - accuracy: 0.7899 - val_loss: 0.7360 - val_accuracy: 0.7454\n",
      "Epoch 22/30\n",
      "50000/50000 [==============================] - 7s 146us/step - loss: 0.5896 - accuracy: 0.7913 - val_loss: 0.7206 - val_accuracy: 0.7499\n",
      "Epoch 23/30\n",
      "50000/50000 [==============================] - 7s 147us/step - loss: 0.5789 - accuracy: 0.7947 - val_loss: 0.7183 - val_accuracy: 0.7594\n",
      "Epoch 24/30\n",
      "50000/50000 [==============================] - 7s 147us/step - loss: 0.5712 - accuracy: 0.7972 - val_loss: 0.7430 - val_accuracy: 0.7589\n",
      "Epoch 25/30\n",
      "50000/50000 [==============================] - 7s 147us/step - loss: 0.5642 - accuracy: 0.8007 - val_loss: 0.7635 - val_accuracy: 0.7429\n",
      "Epoch 26/30\n",
      "50000/50000 [==============================] - 7s 147us/step - loss: 0.5594 - accuracy: 0.8034 - val_loss: 0.7205 - val_accuracy: 0.7614\n",
      "Epoch 27/30\n",
      "50000/50000 [==============================] - 7s 148us/step - loss: 0.5442 - accuracy: 0.8046 - val_loss: 0.7549 - val_accuracy: 0.7414\n",
      "Epoch 28/30\n",
      "50000/50000 [==============================] - 7s 147us/step - loss: 0.5397 - accuracy: 0.8078 - val_loss: 0.7578 - val_accuracy: 0.7429\n",
      "Epoch 29/30\n",
      "50000/50000 [==============================] - 7s 148us/step - loss: 0.5376 - accuracy: 0.8087 - val_loss: 0.7654 - val_accuracy: 0.7444\n",
      "Epoch 30/30\n",
      "50000/50000 [==============================] - 8s 153us/step - loss: 0.5286 - accuracy: 0.8128 - val_loss: 0.7955 - val_accuracy: 0.7404\n"
     ]
    }
   ],
   "source": [
    "ep=30\n",
    "lra=[5e-3,1e-3,5e-4,1e-4]\n",
    "optimizer = Aadam()\n",
    "\n",
    "\n",
    "weights_dict = {}\n",
    "\n",
    "weight_callback = tf.keras.callbacks.LambdaCallback \\\n",
    "( on_epoch_end=lambda epoch, logs: weights_dict.update({epoch:model.get_weights()}))\n",
    "\n",
    "\n",
    "model.compile(optimizer, loss='categorical_crossentropy', metrics=['accuracy'])\n",
    " \n",
    "\n",
    "\n",
    "hb1=model.fit(x_train,y_train, epochs=ep, validation_data=(x_test, y_test), callbacks = [weight_callback  ])"
   ]
  },
  {
   "cell_type": "code",
   "execution_count": 13,
   "metadata": {},
   "outputs": [],
   "source": [
    "# fw=model.get_weights()\n",
    "# model2=model\n",
    "\n",
    "# model2.set_weights(fw)"
   ]
  },
  {
   "cell_type": "code",
   "execution_count": 17,
   "metadata": {},
   "outputs": [
    {
     "name": "stdout",
     "output_type": "stream",
     "text": [
      "Train on 50000 samples, validate on 1999 samples\n",
      "Epoch 1/30\n",
      "50000/50000 [==============================] - 8s 158us/step - loss: 1.5524 - accuracy: 0.4325 - val_loss: 1.3773 - val_accuracy: 0.5103\n",
      "Epoch 2/30\n",
      "50000/50000 [==============================] - 8s 152us/step - loss: 1.2126 - accuracy: 0.5689 - val_loss: 1.1435 - val_accuracy: 0.5918\n",
      "Epoch 3/30\n",
      "50000/50000 [==============================] - 8s 151us/step - loss: 1.0696 - accuracy: 0.6226 - val_loss: 0.9954 - val_accuracy: 0.6508\n",
      "Epoch 4/30\n",
      "50000/50000 [==============================] - 8s 151us/step - loss: 0.9884 - accuracy: 0.6531 - val_loss: 0.9305 - val_accuracy: 0.6708\n",
      "Epoch 5/30\n",
      "50000/50000 [==============================] - 7s 150us/step - loss: 0.9326 - accuracy: 0.6727 - val_loss: 0.9240 - val_accuracy: 0.6653\n",
      "Epoch 6/30\n",
      "50000/50000 [==============================] - 8s 151us/step - loss: 0.8847 - accuracy: 0.6902 - val_loss: 0.8962 - val_accuracy: 0.6888\n",
      "Epoch 7/30\n",
      "50000/50000 [==============================] - 8s 150us/step - loss: 0.8461 - accuracy: 0.7048 - val_loss: 0.8337 - val_accuracy: 0.7064\n",
      "Epoch 8/30\n",
      "50000/50000 [==============================] - 7s 150us/step - loss: 0.8181 - accuracy: 0.7128 - val_loss: 0.8097 - val_accuracy: 0.7154\n",
      "Epoch 9/30\n",
      "50000/50000 [==============================] - 8s 150us/step - loss: 0.7882 - accuracy: 0.7218 - val_loss: 0.8214 - val_accuracy: 0.7084\n",
      "Epoch 10/30\n",
      "50000/50000 [==============================] - 8s 152us/step - loss: 0.7645 - accuracy: 0.7331 - val_loss: 0.8299 - val_accuracy: 0.7069\n",
      "Epoch 11/30\n",
      "50000/50000 [==============================] - 8s 150us/step - loss: 0.7432 - accuracy: 0.7388 - val_loss: 0.8006 - val_accuracy: 0.7194\n",
      "Epoch 12/30\n",
      "50000/50000 [==============================] - 8s 151us/step - loss: 0.7179 - accuracy: 0.7480 - val_loss: 0.8410 - val_accuracy: 0.7124\n",
      "Epoch 13/30\n",
      "50000/50000 [==============================] - 8s 150us/step - loss: 0.7030 - accuracy: 0.7532 - val_loss: 0.7657 - val_accuracy: 0.7369\n",
      "Epoch 14/30\n",
      "50000/50000 [==============================] - 7s 150us/step - loss: 0.6806 - accuracy: 0.7595 - val_loss: 0.8117 - val_accuracy: 0.7269\n",
      "Epoch 15/30\n",
      "50000/50000 [==============================] - 7s 150us/step - loss: 0.6709 - accuracy: 0.7645 - val_loss: 0.7956 - val_accuracy: 0.7379\n",
      "Epoch 16/30\n",
      "50000/50000 [==============================] - 8s 152us/step - loss: 0.6500 - accuracy: 0.7714 - val_loss: 0.7766 - val_accuracy: 0.7394\n",
      "Epoch 17/30\n",
      "50000/50000 [==============================] - 8s 151us/step - loss: 0.6343 - accuracy: 0.7798 - val_loss: 0.7547 - val_accuracy: 0.7419\n",
      "Epoch 18/30\n",
      "50000/50000 [==============================] - 8s 153us/step - loss: 0.6207 - accuracy: 0.7823 - val_loss: 0.7968 - val_accuracy: 0.7259\n",
      "Epoch 19/30\n",
      "50000/50000 [==============================] - 8s 152us/step - loss: 0.6042 - accuracy: 0.7870 - val_loss: 0.7949 - val_accuracy: 0.7339\n",
      "Epoch 20/30\n",
      "50000/50000 [==============================] - 8s 154us/step - loss: 0.5932 - accuracy: 0.7913 - val_loss: 0.7868 - val_accuracy: 0.7434\n",
      "Epoch 21/30\n",
      "50000/50000 [==============================] - 8s 153us/step - loss: 0.5826 - accuracy: 0.7937 - val_loss: 0.7872 - val_accuracy: 0.7469\n",
      "Epoch 22/30\n",
      "50000/50000 [==============================] - 8s 156us/step - loss: 0.5750 - accuracy: 0.7980 - val_loss: 0.7648 - val_accuracy: 0.7429\n",
      "Epoch 23/30\n",
      "50000/50000 [==============================] - 7s 150us/step - loss: 0.5674 - accuracy: 0.7996 - val_loss: 0.7819 - val_accuracy: 0.7404\n",
      "Epoch 24/30\n",
      "50000/50000 [==============================] - 8s 154us/step - loss: 0.5574 - accuracy: 0.8045 - val_loss: 0.8124 - val_accuracy: 0.7389\n",
      "Epoch 25/30\n",
      "50000/50000 [==============================] - 7s 149us/step - loss: 0.5473 - accuracy: 0.8066 - val_loss: 0.8387 - val_accuracy: 0.7279\n",
      "Epoch 26/30\n",
      "50000/50000 [==============================] - 7s 149us/step - loss: 0.5343 - accuracy: 0.8115 - val_loss: 0.7944 - val_accuracy: 0.7399\n",
      "Epoch 27/30\n",
      "50000/50000 [==============================] - 8s 154us/step - loss: 0.5321 - accuracy: 0.8131 - val_loss: 0.8157 - val_accuracy: 0.7454\n",
      "Epoch 28/30\n",
      "50000/50000 [==============================] - 8s 156us/step - loss: 0.5175 - accuracy: 0.8169 - val_loss: 0.7840 - val_accuracy: 0.7434\n",
      "Epoch 29/30\n",
      "50000/50000 [==============================] - 8s 154us/step - loss: 0.5107 - accuracy: 0.8175 - val_loss: 0.7732 - val_accuracy: 0.7399\n",
      "Epoch 30/30\n",
      "50000/50000 [==============================] - 8s 154us/step - loss: 0.5149 - accuracy: 0.8184 - val_loss: 0.8483 - val_accuracy: 0.7374\n"
     ]
    }
   ],
   "source": [
    "model2=  Model(inputs=inputs, outputs=outputs)\n",
    "optimizer = Aadam()\n",
    "model2.set_weights(fw)\n",
    "\n",
    "weights_dict = {}\n",
    "\n",
    "weight_callback = tf.keras.callbacks.LambdaCallback \\\n",
    "( on_epoch_end=lambda epoch, logs: weights_dict.update({epoch:model.get_weights()}))\n",
    "\n",
    "\n",
    "model2.compile(optimizer, loss='categorical_crossentropy', metrics=['accuracy'])\n",
    " \n",
    "\n",
    "\n",
    "hb2=model2.fit(x_train,y_train, epochs=ep, validation_data=(x_test, y_test), callbacks = [weight_callback  ])"
   ]
  },
  {
   "cell_type": "code",
   "execution_count": 20,
   "metadata": {},
   "outputs": [],
   "source": [
    "h1=hb1.history['accuracy']\n",
    "h2=hb2.history['accuracy']"
   ]
  },
  {
   "cell_type": "code",
   "execution_count": 21,
   "metadata": {},
   "outputs": [
    {
     "data": {
      "image/png": "[encoded data removed]",
      "text/plain": [
       "<Figure size 432x288 with 1 Axes>"
      ]
     },
     "metadata": {
      "needs_background": "light"
     },
     "output_type": "display_data"
    }
   ],
   "source": [
    "plt.plot(h1)\n",
    "plt.plot(h2)\n",
    "plt.title('model accuracy')\n",
    "plt.ylabel('accuracy')\n",
    "plt.xlabel('epoch')\n",
    "plt.legend(['AdaMod', 'Adam'], loc='upper left')\n",
    "plt.show()"
   ]
  },
  {
   "cell_type": "code",
   "execution_count": 22,
   "metadata": {},
   "outputs": [],
   "source": [
    "vh1=hb1.history['val_accuracy']\n",
    "vh2=hb2.history['val_accuracy']"
   ]
  },
  {
   "cell_type": "code",
   "execution_count": 23,
   "metadata": {},
   "outputs": [
    {
     "data": {
      "image/png": "[encoded data removed]",
      "text/plain": [
       "<Figure size 432x288 with 1 Axes>"
      ]
     },
     "metadata": {
      "needs_background": "light"
     },
     "output_type": "display_data"
    }
   ],
   "source": [
    "plt.plot(vh1)\n",
    "plt.plot(vh2)\n",
    "plt.title('model accuracy')\n",
    "plt.ylabel('accuracy')\n",
    "plt.xlabel('epoch')\n",
    "plt.legend(['AdaMod', 'Adam'], loc='upper left')\n",
    "plt.show()"
   ]
  },
  {
   "cell_type": "code",
   "execution_count": null,
   "metadata": {},
   "outputs": [],
   "source": []
  }
 ],
 "metadata": {
  "kernelspec": {
   "display_name": "Python [conda env:Bdeep] *",
   "language": "python",
   "name": "conda-env-Bdeep-py"
  },
  "language_info": {
   "codemirror_mode": {
    "name": "ipython",
    "version": 3
   },
   "file_extension": ".py",
   "mimetype": "text/x-python",
   "name": "python",
   "nbconvert_exporter": "python",
   "pygments_lexer": "ipython3",
   "version": "3.7.9"
  }
 },
 "nbformat": 4,
 "nbformat_minor": 4
}
